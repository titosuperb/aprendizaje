{
 "cells": [
  {
   "cell_type": "code",
   "execution_count": 191,
   "id": "cfb5e883-293c-4ef4-b8a1-9b250d603220",
   "metadata": {},
   "outputs": [],
   "source": [
    "from ucimlrepo import fetch_ucirepo\n",
    "from random import randint\n",
    "from random import random\n",
    "from random import shuffle\n",
    "from random import sample\n",
    "import numpy\n",
    "import math"
   ]
  },
  {
   "cell_type": "code",
   "execution_count": 2,
   "id": "0ddfb0f9-9ffd-4f32-a762-b1985ee4fc12",
   "metadata": {},
   "outputs": [],
   "source": [
    "iris = fetch_ucirepo(id=53) "
   ]
  },
  {
   "cell_type": "code",
   "execution_count": 200,
   "id": "09debcfd-0387-4814-ae0c-31aab3238a52",
   "metadata": {},
   "outputs": [],
   "source": [
    "glass = fetch_ucirepo(id=42)"
   ]
  },
  {
   "cell_type": "code",
   "execution_count": 384,
   "id": "b34d24be-4e5b-4530-8775-336e856e1cd4",
   "metadata": {},
   "outputs": [],
   "source": [
    "def toNum(dataset):\n",
    "    x = dataset.data.features.to_numpy()\n",
    "    y = dataset.data.targets.to_numpy()\n",
    "    return x,numpy.ravel(y)"
   ]
  },
  {
   "cell_type": "code",
   "execution_count": 12,
   "id": "89996627-2da3-454a-af14-7e4227904531",
   "metadata": {},
   "outputs": [],
   "source": [
    "def getClases(target):\n",
    "    # Obtiene los diferentes clases\n",
    "    s = set()\n",
    "    for a in target:\n",
    "        s.add(a)\n",
    "    return list(s)"
   ]
  },
  {
   "cell_type": "code",
   "execution_count": 13,
   "id": "724125c0-7317-41b5-83f0-4ebb535f1a4a",
   "metadata": {},
   "outputs": [
    {
     "data": {
      "text/plain": [
       "['Iris-versicolor', 'Iris-setosa', 'Iris-virginica']"
      ]
     },
     "execution_count": 13,
     "metadata": {},
     "output_type": "execute_result"
    }
   ],
   "source": [
    "getClases(toNum(iris)[1])"
   ]
  },
  {
   "cell_type": "code",
   "execution_count": 94,
   "id": "f2b60265-a515-4c00-8730-fc89fa72cbf3",
   "metadata": {},
   "outputs": [],
   "source": [
    "def obtenerValores(pares, e):\n",
    "    tp = 0 # true negative\n",
    "    fn = 0 # false negative\n",
    "    fp = 0 # false positive\n",
    "    tn = 0 # true negative\n",
    "    for a in pares:\n",
    "        if a[0]==e:\n",
    "            # Realmente es positivo\n",
    "            if a[1]==e:\n",
    "                tp+=1\n",
    "            else:\n",
    "                fn+=1\n",
    "        else:\n",
    "             if a[1]==e:\n",
    "                 fp+=1\n",
    "             else:\n",
    "                 tn+=1\n",
    "    return [tp,fn,fp,tn]\n",
    "\n",
    "def obtenerAccuracy(pares,e):\n",
    "    tp,fn,fp,tn=obtenerValores(pares,e)\n",
    "    return (tp+tn)/(tp+tn+fp+fn)\n",
    "\n",
    "def matEsp(pares, e): # Realiza el matriz y el accuracy sobre un solo valor\n",
    "    tp,fn,fp,tn=obtenerValores(pares,e)\n",
    "    print(f\"Elaborado sobre {e}\")\n",
    "    print(f\"Accuracy: {(tp+tn)/(tp+tn+fp+fn)}\")\n",
    "    print(\"\\t1\\t0\")\n",
    "    print(f\"1\\t{tp}\\t{fn}\")\n",
    "    print(f\"0\\t{fp}\\t{tn}\")\n",
    "\n",
    "def obtenerAccGlobal(pares):\n",
    "    s = set()\n",
    "    for a in pares:\n",
    "        s.add(a[0])\n",
    "    prom = []\n",
    "    for a in s:\n",
    "        prom.append(obtenerAccuracy(pares,a))\n",
    "    return sum(prom)/len(prom)\n",
    "\n",
    "    \n",
    "def accYMat(pares): # Sobre los pares de (real,prediccion), se obtiene el accuracy y el matriz de confusion\n",
    "    s = set()\n",
    "    for a in pares:\n",
    "        s.add(a[0])\n",
    "    print(\"Arriba es la clase predicha, a la izquierda es la clase real.\")\n",
    "    prom = []\n",
    "    for a in s:\n",
    "        prom.append(obtenerAccuracy(pares,a))\n",
    "    print(f\"Accuracy global: {sum(prom)/len(prom)}\")\n",
    "    print(\"<---\")\n",
    "    for a in s:\n",
    "        matEsp(pares,a)\n",
    "    print(\"--->\")"
   ]
  },
  {
   "cell_type": "code",
   "execution_count": 35,
   "id": "b6659061-e302-494b-aff4-0e39d7891fe2",
   "metadata": {},
   "outputs": [],
   "source": [
    "def dist(a, b):\n",
    "    # Retorna la distancia entre a y b\n",
    "    if len(a) == len(b):\n",
    "        acum = 0\n",
    "        for x in range(len(a)):\n",
    "            acum += (a[x] - b[x])**2\n",
    "        return math.sqrt(acum)\n",
    "    else:\n",
    "        return -1"
   ]
  },
  {
   "cell_type": "code",
   "execution_count": 216,
   "id": "7d70c24e-af23-4390-93ab-d9ec654cd338",
   "metadata": {},
   "outputs": [],
   "source": [
    "class unoNN:\n",
    "    def fit(this,matEnt, valores):\n",
    "        this.matEnt = matEnt\n",
    "        this.valores = valores\n",
    "    def pred(this,dato):\n",
    "        distMin = dist(dato,this.matEnt[0])\n",
    "        posMin = 0\n",
    "        for a in range(1,len(this.matEnt)):\n",
    "            d = dist(dato,this.matEnt[a])\n",
    "            if(d < distMin):\n",
    "                posMin = a\n",
    "                distMin = d\n",
    "        return this.valores[posMin]\n",
    "    def predict(this,datos):\n",
    "        ret = []\n",
    "        for a in datos:\n",
    "            ret.append(this.pred(a))\n",
    "        return ret"
   ]
  },
  {
   "cell_type": "code",
   "execution_count": 122,
   "id": "a2c89606-6536-49e5-9504-9fff1b80484a",
   "metadata": {},
   "outputs": [],
   "source": [
    "def separar(matEnt,valores):\n",
    "    # Separa la matriz de entrada en indices correspondientes a cada clase clave\n",
    "    separar = {}\n",
    "    clases = getClases(valores)\n",
    "    for a in clases:\n",
    "        separar[a] = []\n",
    "    # Este hold out no sera aleatorio\n",
    "    for a in range(len(matEnt)):\n",
    "        # separar[valores[a]].append(matEnt[a])\n",
    "        separar[valores[a]].append(a)\n",
    "    return separar\n",
    "\n",
    "def holdOut(matEnt, valores, r=0.7):\n",
    "    # Separamos los valores de acuerdo a sus clases\n",
    "    sep = separar(matEnt,valores)\n",
    "    ent,prueba = [],[]\n",
    "    for a in sep.keys():\n",
    "        entTam = int(len(sep[a])*r)\n",
    "        ent += sep[a][:entTam]\n",
    "        prueba += sep[a][entTam:]\n",
    "    res = [[ent,prueba]]\n",
    "    return res"
   ]
  },
  {
   "cell_type": "code",
   "execution_count": 364,
   "id": "dae4241e-bdcb-4898-8752-74b1b68ba717",
   "metadata": {},
   "outputs": [],
   "source": [
    "def kFold(matEnt,valores,k=10):\n",
    "    nums = list(range(len(matEnt)))\n",
    "    shuffle(nums)\n",
    "    divTam = int(len(matEnt)/k)\n",
    "    print(len(matEnt))\n",
    "    folds = []\n",
    "    for a in range(k):\n",
    "        folds.append(nums[a*divTam:(a+1)*divTam])\n",
    "    ret = []\n",
    "    for a in range(k):\n",
    "        merge = []\n",
    "        for b in range(k):\n",
    "            if a!=b:\n",
    "                merge += folds[b]\n",
    "        ret.append([merge, folds[a]])\n",
    "    return ret"
   ]
  },
  {
   "cell_type": "code",
   "execution_count": 214,
   "id": "8249dd2e-52b5-4a98-a4db-c1dc114e90b1",
   "metadata": {
    "scrolled": true
   },
   "outputs": [],
   "source": [
    "def correr(datos,algoritmo,metodoVal):\n",
    "    real = numpy.array([])\n",
    "    pred = numpy.array([])\n",
    "    for indEnt,indVal in metodoVal(datos[0],datos[1]):\n",
    "        x = algoritmo()\n",
    "        x.fit(datos[0][indEnt], datos[1][indEnt])\n",
    "        real = numpy.concatenate([real, datos[1][indVal]])\n",
    "        pred = numpy.concatenate([pred, numpy.array(x.predict(datos[0][indVal]))])\n",
    "    return list(zip(list(real),list(pred)))"
   ]
  },
  {
   "cell_type": "code",
   "execution_count": 180,
   "id": "4687d03d-5472-44e5-932e-12be0da6ca9d",
   "metadata": {},
   "outputs": [],
   "source": [
    "def obtenerVecinos(matEnt, dato, k=5):\n",
    "    # Obtiene los k puntos mas cercanos de dato (de lo que se encuentra en datos) (como indice)\n",
    "    ret = []\n",
    "    for a in range(len(matEnt)):\n",
    "        ret.append((a,dist(matEnt[a], dato)))\n",
    "    ret.sort(key=lambda x: x[1])\n",
    "    if(ret[0][1] == 0): # Si el elemento mas cercano es el mismo dato, lo excluimos\n",
    "        ret = ret[1:k+1]\n",
    "    else:\n",
    "        ret = ret[0:k];\n",
    "    return [x[0] for x in ret]"
   ]
  },
  {
   "cell_type": "code",
   "execution_count": 168,
   "id": "6cd61185-4a8c-4f86-89e9-0b1ce2f93f9e",
   "metadata": {},
   "outputs": [],
   "source": [
    "def puntoEntre(a,b):\n",
    "    # Retorna un punto aleatorio entre dos vectores, excluyendo a,b\n",
    "    diff = a-b\n",
    "    return b + diff*random()"
   ]
  },
  {
   "cell_type": "code",
   "execution_count": 501,
   "id": "6607766b-5d7f-4a4f-875c-9c06969f0f47",
   "metadata": {},
   "outputs": [],
   "source": [
    "def smote(datos, claseMin, N=3, k=5):\n",
    "    # De los K vecinos mas cercanos, selecciona N de forma aleatoria. Requisitos k>len(datosMin) y k>N\n",
    "    # Retorna len(claseMin)*N Nuevos datos\n",
    "    sep = separar(datos[0],datos[1]) # Obtenemos los indices para cada clase\n",
    "    indMin = sep[claseMin]\n",
    "    datosEntMin = datos[0][indMin]\n",
    "    if(len(indMin) < k):\n",
    "        k = len(indMin)\n",
    "        print(\"K muy grande para la clase minima\")\n",
    "    # datosValMin = datos[1][indMin] # Dato irrelevante al ser todas de la misma clase\n",
    "    ret = []\n",
    "    for a in datosEntMin:\n",
    "        vecinos = obtenerVecinos(datosEntMin,a,k)\n",
    "        nInd = sample(vecinos,N)\n",
    "        n = datosEntMin[nInd]\n",
    "        for b in n:\n",
    "            ret.append(puntoEntre(a,b))\n",
    "    return ret\n",
    "def smote2(datosEntMin):\n",
    "    # Version simplificada de smote,toma un punto, determina k=3, y N=1 por una sola iteracion\n",
    "    p = sample(range(len(datosEntMin)), 1)\n",
    "    punto = datosEntMin[p[0]]\n",
    "    vecs = datosEntMin[obtenerVecinos(datosEntMin, punto, k=3)]\n",
    "    p2 = vecs[randint(0,2)]\n",
    "    return puntoEntre(p,p2)\n",
    "    #ret = puntoEntre(datosEntMin[puntos[0]],datosEntMin[puntos[0]])\n",
    "    #return ret"
   ]
  },
  {
   "cell_type": "code",
   "execution_count": 205,
   "id": "29d106d1-180d-417e-9785-6d81c92acd78",
   "metadata": {},
   "outputs": [],
   "source": [
    "glassNum = toNum(glass)"
   ]
  },
  {
   "cell_type": "code",
   "execution_count": 366,
   "id": "121008aa-cc63-424c-ba5b-b0845bab650b",
   "metadata": {},
   "outputs": [],
   "source": [
    "def agregarDatos(datos):\n",
    "    sep = separar(*datos)\n",
    "    tams = {}\n",
    "    m = list(sep.keys())[0]\n",
    "    for a in sep.keys():\n",
    "        tams[a] = len(sep[a])\n",
    "        if(tams[a] > tams[m]):\n",
    "            m = a\n",
    "    diffMin = 10 # Si la diferencia entre dos clases, es menor a la minima de diferencia, se ignora la clase\n",
    "    ret = []\n",
    "    val = []\n",
    "    for a in sep.keys():\n",
    "        diff = tams[m] - tams[a]\n",
    "        ret += list(datos[0][sep[a]])\n",
    "        val += list(datos[1][sep[a]])\n",
    "        if(diff >= diffMin):\n",
    "            dats = datos[0][sep[a]]\n",
    "            for b in range(diff):\n",
    "                ret.append(smote2(dats))\n",
    "                val.append(a)\n",
    "\n",
    "    return numpy.asarray([ret,val],dtype=\"object\")"
   ]
  },
  {
   "cell_type": "code",
   "execution_count": 506,
   "id": "6d67890c-7145-46c0-bd61-76db16149248",
   "metadata": {},
   "outputs": [
    {
     "name": "stdout",
     "output_type": "stream",
     "text": [
      "214\n",
      "450\n",
      "Arriba es la clase predicha, a la izquierda es la clase real.\n",
      "Accuracy global: 0.9126984126984127\n",
      "<---\n",
      "Elaborado sobre 1.0\n",
      "Accuracy: 0.819047619047619\n",
      "\t1\t0\n",
      "1\t53\t15\n",
      "0\t23\t119\n",
      "Elaborado sobre 2.0\n",
      "Accuracy: 0.8523809523809524\n",
      "\t1\t0\n",
      "1\t56\t19\n",
      "0\t12\t123\n",
      "Elaborado sobre 3.0\n",
      "Accuracy: 0.9047619047619048\n",
      "\t1\t0\n",
      "1\t6\t11\n",
      "0\t9\t184\n",
      "Elaborado sobre 5.0\n",
      "Accuracy: 0.9714285714285714\n",
      "\t1\t0\n",
      "1\t10\t2\n",
      "0\t4\t194\n",
      "Elaborado sobre 6.0\n",
      "Accuracy: 0.9666666666666667\n",
      "\t1\t0\n",
      "1\t5\t4\n",
      "0\t3\t198\n",
      "Elaborado sobre 7.0\n",
      "Accuracy: 0.9619047619047619\n",
      "\t1\t0\n",
      "1\t25\t4\n",
      "0\t4\t177\n",
      "--->\n",
      "Arriba es la clase predicha, a la izquierda es la clase real.\n",
      "Accuracy global: 0.8829629629629631\n",
      "<---\n",
      "Elaborado sobre 1\n",
      "Accuracy: 0.9088888888888889\n",
      "\t1\t0\n",
      "1\t55\t15\n",
      "0\t26\t354\n",
      "Elaborado sobre 2\n",
      "Accuracy: 0.92\n",
      "\t1\t0\n",
      "1\t54\t22\n",
      "0\t14\t360\n",
      "Elaborado sobre 3\n",
      "Accuracy: 0.8488888888888889\n",
      "\t1\t0\n",
      "1\t43\t33\n",
      "0\t35\t339\n",
      "Elaborado sobre 5\n",
      "Accuracy: 0.8822222222222222\n",
      "\t1\t0\n",
      "1\t47\t29\n",
      "0\t24\t350\n",
      "Elaborado sobre 6\n",
      "Accuracy: 0.8466666666666667\n",
      "\t1\t0\n",
      "1\t45\t31\n",
      "0\t38\t336\n",
      "Elaborado sobre 7\n",
      "Accuracy: 0.8911111111111111\n",
      "\t1\t0\n",
      "1\t48\t28\n",
      "0\t21\t353\n",
      "--->\n"
     ]
    }
   ],
   "source": [
    "res = correr(glassNum,unoNN,kFold)\n",
    "res2 = correr(agregarDatos(glassNum),unoNN,kFold)\n",
    "accYMat(res)\n",
    "accYMat(res2)"
   ]
  },
  {
   "cell_type": "code",
   "execution_count": 507,
   "id": "0d211d0f-b270-4755-aa99-46c704f92d04",
   "metadata": {},
   "outputs": [
    {
     "name": "stdout",
     "output_type": "stream",
     "text": [
      "Arriba es la clase predicha, a la izquierda es la clase real.\n",
      "Accuracy global: 0.8535353535353535\n",
      "<---\n",
      "Elaborado sobre 1.0\n",
      "Accuracy: 0.6666666666666666\n",
      "\t1\t0\n",
      "1\t13\t8\n",
      "0\t14\t31\n",
      "Elaborado sobre 2.0\n",
      "Accuracy: 0.6818181818181818\n",
      "\t1\t0\n",
      "1\t9\t14\n",
      "0\t7\t36\n",
      "Elaborado sobre 3.0\n",
      "Accuracy: 0.8787878787878788\n",
      "\t1\t0\n",
      "1\t1\t5\n",
      "0\t3\t57\n",
      "Elaborado sobre 5.0\n",
      "Accuracy: 0.9696969696969697\n",
      "\t1\t0\n",
      "1\t4\t0\n",
      "0\t2\t60\n",
      "Elaborado sobre 6.0\n",
      "Accuracy: 0.9242424242424242\n",
      "\t1\t0\n",
      "1\t1\t2\n",
      "0\t3\t60\n",
      "Elaborado sobre 7.0\n",
      "Accuracy: 1.0\n",
      "\t1\t0\n",
      "1\t9\t0\n",
      "0\t0\t57\n",
      "--->\n",
      "Arriba es la clase predicha, a la izquierda es la clase real.\n",
      "Accuracy global: 0.8455882352941176\n",
      "<---\n",
      "Elaborado sobre 1\n",
      "Accuracy: 0.875\n",
      "\t1\t0\n",
      "1\t13\t8\n",
      "0\t9\t106\n",
      "Elaborado sobre 2\n",
      "Accuracy: 0.8529411764705882\n",
      "\t1\t0\n",
      "1\t9\t14\n",
      "0\t6\t107\n",
      "Elaborado sobre 3\n",
      "Accuracy: 0.7867647058823529\n",
      "\t1\t0\n",
      "1\t13\t10\n",
      "0\t19\t94\n",
      "Elaborado sobre 5\n",
      "Accuracy: 0.8602941176470589\n",
      "\t1\t0\n",
      "1\t15\t8\n",
      "0\t11\t102\n",
      "Elaborado sobre 6\n",
      "Accuracy: 0.8382352941176471\n",
      "\t1\t0\n",
      "1\t14\t9\n",
      "0\t13\t100\n",
      "Elaborado sobre 7\n",
      "Accuracy: 0.8602941176470589\n",
      "\t1\t0\n",
      "1\t9\t14\n",
      "0\t5\t108\n",
      "--->\n"
     ]
    }
   ],
   "source": [
    "res = correr(glassNum,unoNN,holdOut)\n",
    "res2 = correr(agregarDatos(glassNum),unoNN,holdOut)\n",
    "accYMat(res)\n",
    "accYMat(res2)"
   ]
  },
  {
   "cell_type": "markdown",
   "id": "2895ffa5-89c7-4801-808c-0af254457dec",
   "metadata": {},
   "source": [
    "## Parte 2"
   ]
  },
  {
   "cell_type": "code",
   "execution_count": 385,
   "id": "695303c3-1533-4241-9e0c-32d20da00f08",
   "metadata": {},
   "outputs": [],
   "source": [
    "irisNum = toNum(iris)"
   ]
  },
  {
   "cell_type": "code",
   "execution_count": 388,
   "id": "9e5f4850-a996-4921-b592-94a4e0a38855",
   "metadata": {},
   "outputs": [
    {
     "data": {
      "text/plain": [
       "['Iris-versicolor', 'Iris-setosa', 'Iris-virginica']"
      ]
     },
     "execution_count": 388,
     "metadata": {},
     "output_type": "execute_result"
    }
   ],
   "source": [
    "irisClases = getClases(irisNum[1])\n",
    "irisClases"
   ]
  },
  {
   "cell_type": "code",
   "execution_count": 389,
   "id": "f7463590-9fd2-4646-a34d-d36bf443e2ce",
   "metadata": {},
   "outputs": [],
   "source": [
    "filtro = [irisClases[0] != x for x in irisNum[1]]\n",
    "iris2 = [irisNum[0][filtro],irisNum[1][filtro]]"
   ]
  },
  {
   "cell_type": "code",
   "execution_count": 465,
   "id": "810e87af-0367-42cd-acb3-ff9c548ff32d",
   "metadata": {},
   "outputs": [],
   "source": [
    "class perceptron():\n",
    "    # Se implementa la regla de hebb para el aprendizaje\n",
    "    ritmo = 0.5 # Ritmo de aprendizaje\n",
    "    def fit(this,matEnt, sal):\n",
    "        this.clases = getClases(sal) # Primer elemento sera -1, y el segundo elemento sera 1\n",
    "        t = [-1 if x == this.clases[0] else 1 for x in sal]\n",
    "        this.pesos = [0]*len(matEnt[0]) # La cantidad de columnas del primer elemento\n",
    "        for a,b in zip(matEnt,t):\n",
    "            this.pesos = this.pesos + this.ritmo*a*b\n",
    "        activ1,activ2 = [],[]\n",
    "        for a,b in zip(matEnt,t):\n",
    "            suma = 0\n",
    "            for c in range(len(this.pesos)):\n",
    "                suma += this.pesos[c] * a[c]\n",
    "            if(b == 1):\n",
    "                activ2.append(suma)\n",
    "            else:\n",
    "                activ1.append(suma)\n",
    "        if(min(activ1) > max(activ2)):\n",
    "            ag = activ1\n",
    "            am = activ2\n",
    "            this.mg = 0\n",
    "        else:\n",
    "            ag = activ2\n",
    "            am = activ1\n",
    "            this.mg = 1\n",
    "        this.thresh = (min(ag) + max(am))/2\n",
    "    def pred(this,dato):\n",
    "        suma = 0\n",
    "        for a in range(len(this.pesos)):\n",
    "            suma += this.pesos[a] * dato[a]\n",
    "        if(suma > this.thresh):\n",
    "            return this.clases[this.mg]\n",
    "        else:\n",
    "            return this.clases[int(not(this.mg))]\n",
    "    def predict(this,datos):\n",
    "        ret = []\n",
    "        for a in datos:\n",
    "            ret.append(this.pred(a))\n",
    "        return ret"
   ]
  },
  {
   "cell_type": "code",
   "execution_count": 470,
   "id": "7fc8070c-c2c1-4663-96ce-d2b2c2d684f7",
   "metadata": {},
   "outputs": [
    {
     "name": "stdout",
     "output_type": "stream",
     "text": [
      "Arriba es la clase predicha, a la izquierda es la clase real.\n",
      "Accuracy global: 1.0\n",
      "<---\n",
      "Elaborado sobre Iris-setosa\n",
      "Accuracy: 1.0\n",
      "\t1\t0\n",
      "1\t15\t0\n",
      "0\t0\t15\n",
      "Elaborado sobre Iris-virginica\n",
      "Accuracy: 1.0\n",
      "\t1\t0\n",
      "1\t15\t0\n",
      "0\t0\t15\n",
      "--->\n"
     ]
    }
   ],
   "source": [
    "resPerceptron = correr(iris2,perceptron,holdOut)\n",
    "accYMat(resPerceptron)"
   ]
  }
 ],
 "metadata": {
  "kernelspec": {
   "display_name": "Python 3 (ipykernel)",
   "language": "python",
   "name": "python3"
  },
  "language_info": {
   "codemirror_mode": {
    "name": "ipython",
    "version": 3
   },
   "file_extension": ".py",
   "mimetype": "text/x-python",
   "name": "python",
   "nbconvert_exporter": "python",
   "pygments_lexer": "ipython3",
   "version": "3.13.0"
  }
 },
 "nbformat": 4,
 "nbformat_minor": 5
}
